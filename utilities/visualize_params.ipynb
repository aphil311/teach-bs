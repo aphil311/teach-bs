{
 "cells": [
  {
   "cell_type": "code",
   "execution_count": 1,
   "metadata": {},
   "outputs": [
    {
     "data": {
      "application/vnd.plotly.v1+json": {
       "config": {
        "plotlyServerURL": "https://plot.ly"
       },
       "data": [
        {
         "customdata": [
          [
           "I feel tired."
          ],
          [
           "I am feeling a bit fatigued."
          ],
          [
           "I am quite sleepy."
          ],
          [
           "I am very energetic today."
          ],
          [
           "The weather is quite pleasant."
          ],
          [
           "I just finished a great book."
          ],
          [
           "Tired I am the."
          ],
          [
           "Muddy is the shoe tired."
          ],
          [
           "Sleepy birds fly quickly."
          ],
          [
           "This is your book."
          ],
          [
           "That is my notebook."
          ],
          [
           "This is a book of mine."
          ],
          [
           "I love to read novels."
          ],
          [
           "She borrowed a pencil from me."
          ],
          [
           "We went to the park yesterday."
          ],
          [
           "Is my book that this."
          ],
          [
           "Book my is this."
          ],
          [
           "This my book is not."
          ],
          [
           "He has a dog."
          ],
          [
           "He owns a pet dog."
          ],
          [
           "He possesses a canine."
          ],
          [
           "She enjoys reading books."
          ],
          [
           "They went to the park yesterday."
          ],
          [
           "The car broke down on the highway."
          ],
          [
           "He dog a has."
          ],
          [
           "Has a dog he."
          ],
          [
           "Dog he has a the."
          ],
          [
           "We are heading home."
          ],
          [
           "We are going back."
          ],
          [
           "We will return to our house."
          ],
          [
           "They are playing in the park."
          ],
          [
           "She is cooking dinner."
          ],
          [
           "I just bought a new car."
          ],
          [
           "Home we go nach."
          ],
          [
           "Going home is we."
          ],
          [
           "House to the we are."
          ],
          [
           "She is reading a novel."
          ],
          [
           "She reads a book every night."
          ],
          [
           "She is currently reading a story."
          ],
          [
           "He plays soccer with his friends."
          ],
          [
           "The cat jumped off the table."
          ],
          [
           "They went to the park for a picnic."
          ],
          [
           "Book she reads is the."
          ],
          [
           "A reads book she."
          ],
          [
           "She book a read is."
          ],
          [
           "I really enjoy chocolate."
          ],
          [
           "Chocolate is my favorite treat."
          ],
          [
           "I have a strong fondness for chocolate."
          ],
          [
           "I dislike vegetables."
          ],
          [
           "Cats are my favorite animals."
          ],
          [
           "I prefer ice cream over all desserts."
          ],
          [
           "Schokolade love I."
          ],
          [
           "Chocolate is loves I."
          ],
          [
           "I chocolate love very much."
          ],
          [
           "Do you have any siblings?"
          ],
          [
           "Are you the only child in your family?"
          ],
          [
           "How many brothers or sisters do you have?"
          ],
          [
           "What time is it today?"
          ],
          [
           "I enjoy reading books in my free time."
          ],
          [
           "The weather is quite nice this week."
          ],
          [
           "Siblings have you do?"
          ],
          [
           "I sibling like a fish on a tree."
          ],
          [
           "Do you sibling jump over moon?"
          ],
          [
           "Today is chilly."
          ],
          [
           "It is cold outside today."
          ],
          [
           "The weather is quite cold today."
          ],
          [
           "I have a meeting later today."
          ],
          [
           "She enjoys reading books in the evening."
          ],
          [
           "The flowers are blooming beautifully this spring."
          ],
          [
           "Cold is today it."
          ],
          [
           "Today is the cold weather very."
          ],
          [
           "Kittens play and it is snowing."
          ],
          [
           "Where is the train station located?"
          ],
          [
           "Can you tell me the direction to the railway station?"
          ],
          [
           "Is the bus station near the train station?"
          ],
          [
           "The park is beautiful this time of year."
          ],
          [
           "I love eating pizza on Fridays."
          ],
          [
           "The cat chased the mouse around the house."
          ],
          [
           "Where is the train stop?"
          ],
          [
           "Is train the where?"
          ],
          [
           "Station the where is?"
          ],
          [
           "The weather is lovely today."
          ],
          [
           "It is a nice day outside."
          ],
          [
           "The weather feels pleasant."
          ],
          [
           "I enjoy reading books on the weekend."
          ],
          [
           "The sun sets in the west every evening."
          ],
          [
           "She loves to travel to new countries."
          ],
          [
           "Weather beautiful is the."
          ],
          [
           "Sunshine many flowers dance."
          ],
          [
           "Outside sky blue fluffy."
          ],
          [
           "He works in an office."
          ],
          [
           "He is employed at a desk job."
          ],
          [
           "He has a job in a corporate environment."
          ],
          [
           "She enjoys painting in her free time."
          ],
          [
           "They went hiking in the mountains last weekend."
          ],
          [
           "The cat chased a mouse around the house."
          ],
          [
           "He office works in the."
          ],
          [
           "Desk job he is at the, fun!"
          ],
          [
           "Office he the works do."
          ],
          [
           "I drink water every day."
          ],
          [
           "I enjoy drinking water."
          ],
          [
           "I often have water with my meals."
          ],
          [
           "I eat bread for breakfast."
          ],
          [
           "She prefers tea over coffee."
          ],
          [
           "They are going to the market."
          ],
          [
           "Water I drink the fish."
          ],
          [
           "Trinking water is goodly for health."
          ],
          [
           "Watter is a drik I like."
          ],
          [
           "She enjoys dancing."
          ],
          [
           "She loves to dance."
          ],
          [
           "She often participates in dance."
          ],
          [
           "He plays football every weekend."
          ],
          [
           "They are reading a book together."
          ],
          [
           "The sun sets in the west."
          ],
          [
           "Dance she likes."
          ],
          [
           "Enjoys she dancing much."
          ],
          [
           "She dance like a fish."
          ],
          [
           "Can you assist me?"
          ],
          [
           "Could you lend me a hand?"
          ],
          [
           "Would you be able to help me out?"
          ],
          [
           "I enjoy reading books in my free time."
          ],
          [
           "The weather is nice today for a picnic."
          ],
          [
           "She loves to travel around the world."
          ],
          [
           "Help can you me?"
          ],
          [
           "You me help can?"
          ],
          [
           "Can help you me do?"
          ],
          [
           "We are playing soccer."
          ],
          [
           "We are having a soccer game."
          ],
          [
           "We play football regularly."
          ],
          [
           "I enjoy reading books."
          ],
          [
           "She is cooking dinner tonight."
          ],
          [
           "They went for a swim at the beach."
          ],
          [
           "Soccer we play the ball."
          ],
          [
           "Football is play running fast."
          ],
          [
           "We playing fun the sport."
          ],
          [
           "The car is brand new."
          ],
          [
           "This vehicle is recently purchased."
          ],
          [
           "The automobile is in pristine condition."
          ],
          [
           "The bicycle is old."
          ],
          [
           "He drives a truck."
          ],
          [
           "The engine needs repair."
          ],
          [
           "Car new is the."
          ],
          [
           "Auto very fastly."
          ],
          [
           "New car is the blue."
          ],
          [
           "I'm feeling hungry right now."
          ],
          [
           "I could really use some food."
          ],
          [
           "I haven't eaten in a while."
          ],
          [
           "The sun is shining brightly today."
          ],
          [
           "I enjoy reading books in my free time."
          ],
          [
           "She is going to the store later."
          ],
          [
           "Hunger I have very much."
          ],
          [
           "Food is what I want now."
          ],
          [
           "Eat I must food, very hungry."
          ],
          [
           "Good morning to you!"
          ],
          [
           "Hello, good morning!"
          ],
          [
           "Wishing you a wonderful morning!"
          ],
          [
           "I had a great breakfast today."
          ],
          [
           "The sun is shining brightly."
          ],
          [
           "I will go for a walk later."
          ],
          [
           "Morning good!"
          ],
          [
           "Sunrise is morning!"
          ],
          [
           "Goodly morning the sky!"
          ],
          [
           "He is fluent in German."
          ],
          [
           "He can communicate in German."
          ],
          [
           "He knows how to speak German."
          ],
          [
           "She loves to play the piano."
          ],
          [
           "They are going to the park tomorrow."
          ],
          [
           "The weather is nice today."
          ],
          [
           "He speak German yes."
          ],
          [
           "Deutsch he is speaking."
          ],
          [
           "He speaks cat and dog."
          ],
          [
           "I like cats a lot."
          ],
          [
           "I enjoy being around cats."
          ],
          [
           "Cats are my favorite animals."
          ],
          [
           "I dislike dogs."
          ],
          [
           "I prefer to watch movies."
          ],
          [
           "I am learning to cook."
          ],
          [
           "Cats like I mag."
          ],
          [
           "Kittens are I enjoy."
          ],
          [
           "Like cats I mag very much."
          ]
         ],
         "hovertemplate": "bertscore=%{x}<br>accuracy=%{y}<br>english=%{customdata[0]}<extra></extra>",
         "legendgroup": "",
         "marker": {
          "color": "#636efa",
          "symbol": "circle"
         },
         "mode": "markers",
         "name": "",
         "orientation": "v",
         "showlegend": false,
         "type": "scatter",
         "x": {
          "bdata": "Qz7o2az67D8VHcnlP6TnPycxCKwcWug/JzEIrBxa3D8v3SQGgZXbP/7UeOkmMdQ/1udqK/aX5z9seHqlLEPgP3PXEvJBz9Y/8tJNYhBY7T82PL1SliHqP9QrZRniWOs/qOhILv8h3T+Hp1fKMsTdPw5Pr5RliNc/Rkdy+Q/p6T/swDkjSnvpP9gS8kHPZuk/HVpkO99P7z+gGi/dJAbrPxWuR+F6FOg/LpCg+DHm2j/129eBc0bYP0cDeAskKNY/whcmUwWj5j8NAiuHFtnsP/tcbcX+suc/4C2QoPgx7D+4rwPnjCjnP7aEfNCzWek/E/JBz2bV2z/TTWIQWDncP6RwPQrXo9Q//Yf029eB6T8830+Nl27qP2mR7Xw/NeI/Ke0NvjCZ7D9R/Bhz1xLoPzSitDf4wug/wTkjSnuD2z/YgXNGlPbWP2+jAbwFEtw//yH99nXg5D9m9+RhodbqP3HOiNLe4Ok/q8/VVuwv6z924JwRpb3jP7u4jQbwFuQ/Njy9UpYh5D94CyQofozZP07zjlN0JOE/m3ecoiO56D9xrIvbaADpPzSitDf4wuo/0bNZ9bna7D8YldQJaCLiP6RwPQrXo+Q/OGdEaW/w1T8FxY8xdy3VP491cRsN4M0/yzLEsS5u6T/eAgmKH2PWP12PwvUoXNs//Rhz1xLy5T+gq63YX3brPzzfT42Xbuo/EhQ/xty13D/gvg6cM6LUP1d9rrZif9k/mN2Th4Va7T9oRGlv8IXlP0jhehSuR9k/rmnecYqO6j8RNjy9UpbjP9xoAG+BBOU/i47k8h/S1z+I9NvXgXPSP2b35GGh1tg/YxBYObTI6D8qyxDHurjlP65H4XoUruk/kzoBTYQN6z9lGeJYF7flP0zIBz2bVes/ZMxdS8gH1T9KnYAmwobXP1YOLbKd79M/CYofY+5a7D9rvHSTGATaP0Vpb/CFydQ/rmnecYqO7D/+1HjpJjHmP6foSC7/IeM/5YOezarP3T9GR3L5D+nbP0T67evAOds/UkmdgCbC6j9DrWnecYrgP5xVn6ut2OM/CmgibHh66T/b+X5qvHTrPxrAWyBB8eM/BHgLJCh+5D+ze/KwUGviP1qGONbFbdw/w/UoXI/C6T8YJlMFo5LiPwwCK4cW2eI/9P3UeOkm6z+hibDh6ZXsP6hXyjLEseY/+cJkqmBU2j/f4AuTqYLVPw8LtaZ5x9U/Rkdy+Q/p6T/CqKROQBPnPx8Wak3zjuM/dZMYBFYO7z9BE2HD0yvnP2iz6nO1Fes/fT81XrpJ0D+dEaW9wRfOPy4hH/RsVtE/6Gor9pfd7T/pSC7/If3sPw1xrIvbaOo/95fdk4eF7j8EeAskKH7qP9ZW7C+7J+s/6+I2GsBb3D92ApoIG57aPwkbnl4py9g/7g2+MJkq6j+eXinLEMfkP5qZmZmZmec/lIeFWtO86z988rBQa5rjPwK8BRIUP+I/lfYGX5hM5T9n1edqK/bhP+QUHcnlP+A/+ORhodY06T+kcD0K16PkP0p7gy9Mpug/dnEbDeAt6D8GEhQ/xtzdP847TtGRXN4/ArwFEhQ/0j+94xQdyeXTP8uhRbbz/dA/BOeMKO0N6D+KsOHplbLcP3E9CtejcOM/0SLb+X5q7D8i/fZ14JztP7TIdr6fGuM/EHo2qz5X1z/1SlmGONbRP+0vuycPC9E/u7iNBvAW7D9JUPwYc9feP+auJeSDnuU/jNtoAG+B6D/5wmSqYFToP1yxv+yePOo/M8SxLm6j2T+QwvUoXI/WP7tJDAIrh9I/E/JBz2bV5z/p2az6XG3rP74wmSoYleI/+n5qvHST6j/XNO84RUfmP807TtGRXOI/gNk9eVio5z9R2ht8YTLjP8+I0t7gC98/YVRSJ6CJ6D851sVtNIDnP0eU9gZfmOg/",
          "dtype": "f8"
         },
         "xaxis": "x",
         "y": {
          "bdata": "ZFVVFBQURhQUVVVkRhQURkZVZFVkFBQUVWRGZFVkFBQUVVVGVVVVFBQURmRGZFVkRhQURkZVZFVVFBQUVRQUZGRkFBQUZFVGZFVGFBQUVUZGZGRkFBQUVUYUZFVVFBQUVUZGRlVGRhQUVUZGZGRGFBQUVVVGZGRkFBQUZGRVZFVVFBQUVUZGZFVVRkYUVUZVZFVVFBQUZFVkZGRVFBQUVRRVZGRkFBQUVVVGVVVVRhQURkZG",
          "dtype": "i1"
         },
         "yaxis": "y"
        },
        {
         "mode": "lines",
         "name": "Best fit",
         "type": "scatter",
         "x": {
          "bdata": "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",
          "dtype": "f8"
         },
         "y": {
          "bdata": "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",
          "dtype": "f8"
         }
        }
       ],
       "layout": {
        "font": {
         "color": "black"
        },
        "legend": {
         "orientation": "h",
         "tracegroupgap": 0,
         "x": 1,
         "xanchor": "right",
         "y": 1.02,
         "yanchor": "bottom"
        },
        "plot_bgcolor": "white",
        "template": {
         "data": {
          "bar": [
           {
            "error_x": {
             "color": "#2a3f5f"
            },
            "error_y": {
             "color": "#2a3f5f"
            },
            "marker": {
             "line": {
              "color": "#E5ECF6",
              "width": 0.5
             },
             "pattern": {
              "fillmode": "overlay",
              "size": 10,
              "solidity": 0.2
             }
            },
            "type": "bar"
           }
          ],
          "barpolar": [
           {
            "marker": {
             "line": {
              "color": "#E5ECF6",
              "width": 0.5
             },
             "pattern": {
              "fillmode": "overlay",
              "size": 10,
              "solidity": 0.2
             }
            },
            "type": "barpolar"
           }
          ],
          "carpet": [
           {
            "aaxis": {
             "endlinecolor": "#2a3f5f",
             "gridcolor": "white",
             "linecolor": "white",
             "minorgridcolor": "white",
             "startlinecolor": "#2a3f5f"
            },
            "baxis": {
             "endlinecolor": "#2a3f5f",
             "gridcolor": "white",
             "linecolor": "white",
             "minorgridcolor": "white",
             "startlinecolor": "#2a3f5f"
            },
            "type": "carpet"
           }
          ],
          "choropleth": [
           {
            "colorbar": {
             "outlinewidth": 0,
             "ticks": ""
            },
            "type": "choropleth"
           }
          ],
          "contour": [
           {
            "colorbar": {
             "outlinewidth": 0,
             "ticks": ""
            },
            "colorscale": [
             [
              0,
              "#0d0887"
             ],
             [
              0.1111111111111111,
              "#46039f"
             ],
             [
              0.2222222222222222,
              "#7201a8"
             ],
             [
              0.3333333333333333,
              "#9c179e"
             ],
             [
              0.4444444444444444,
              "#bd3786"
             ],
             [
              0.5555555555555556,
              "#d8576b"
             ],
             [
              0.6666666666666666,
              "#ed7953"
             ],
             [
              0.7777777777777778,
              "#fb9f3a"
             ],
             [
              0.8888888888888888,
              "#fdca26"
             ],
             [
              1,
              "#f0f921"
             ]
            ],
            "type": "contour"
           }
          ],
          "contourcarpet": [
           {
            "colorbar": {
             "outlinewidth": 0,
             "ticks": ""
            },
            "type": "contourcarpet"
           }
          ],
          "heatmap": [
           {
            "colorbar": {
             "outlinewidth": 0,
             "ticks": ""
            },
            "colorscale": [
             [
              0,
              "#0d0887"
             ],
             [
              0.1111111111111111,
              "#46039f"
             ],
             [
              0.2222222222222222,
              "#7201a8"
             ],
             [
              0.3333333333333333,
              "#9c179e"
             ],
             [
              0.4444444444444444,
              "#bd3786"
             ],
             [
              0.5555555555555556,
              "#d8576b"
             ],
             [
              0.6666666666666666,
              "#ed7953"
             ],
             [
              0.7777777777777778,
              "#fb9f3a"
             ],
             [
              0.8888888888888888,
              "#fdca26"
             ],
             [
              1,
              "#f0f921"
             ]
            ],
            "type": "heatmap"
           }
          ],
          "histogram": [
           {
            "marker": {
             "pattern": {
              "fillmode": "overlay",
              "size": 10,
              "solidity": 0.2
             }
            },
            "type": "histogram"
           }
          ],
          "histogram2d": [
           {
            "colorbar": {
             "outlinewidth": 0,
             "ticks": ""
            },
            "colorscale": [
             [
              0,
              "#0d0887"
             ],
             [
              0.1111111111111111,
              "#46039f"
             ],
             [
              0.2222222222222222,
              "#7201a8"
             ],
             [
              0.3333333333333333,
              "#9c179e"
             ],
             [
              0.4444444444444444,
              "#bd3786"
             ],
             [
              0.5555555555555556,
              "#d8576b"
             ],
             [
              0.6666666666666666,
              "#ed7953"
             ],
             [
              0.7777777777777778,
              "#fb9f3a"
             ],
             [
              0.8888888888888888,
              "#fdca26"
             ],
             [
              1,
              "#f0f921"
             ]
            ],
            "type": "histogram2d"
           }
          ],
          "histogram2dcontour": [
           {
            "colorbar": {
             "outlinewidth": 0,
             "ticks": ""
            },
            "colorscale": [
             [
              0,
              "#0d0887"
             ],
             [
              0.1111111111111111,
              "#46039f"
             ],
             [
              0.2222222222222222,
              "#7201a8"
             ],
             [
              0.3333333333333333,
              "#9c179e"
             ],
             [
              0.4444444444444444,
              "#bd3786"
             ],
             [
              0.5555555555555556,
              "#d8576b"
             ],
             [
              0.6666666666666666,
              "#ed7953"
             ],
             [
              0.7777777777777778,
              "#fb9f3a"
             ],
             [
              0.8888888888888888,
              "#fdca26"
             ],
             [
              1,
              "#f0f921"
             ]
            ],
            "type": "histogram2dcontour"
           }
          ],
          "mesh3d": [
           {
            "colorbar": {
             "outlinewidth": 0,
             "ticks": ""
            },
            "type": "mesh3d"
           }
          ],
          "parcoords": [
           {
            "line": {
             "colorbar": {
              "outlinewidth": 0,
              "ticks": ""
             }
            },
            "type": "parcoords"
           }
          ],
          "pie": [
           {
            "automargin": true,
            "type": "pie"
           }
          ],
          "scatter": [
           {
            "fillpattern": {
             "fillmode": "overlay",
             "size": 10,
             "solidity": 0.2
            },
            "type": "scatter"
           }
          ],
          "scatter3d": [
           {
            "line": {
             "colorbar": {
              "outlinewidth": 0,
              "ticks": ""
             }
            },
            "marker": {
             "colorbar": {
              "outlinewidth": 0,
              "ticks": ""
             }
            },
            "type": "scatter3d"
           }
          ],
          "scattercarpet": [
           {
            "marker": {
             "colorbar": {
              "outlinewidth": 0,
              "ticks": ""
             }
            },
            "type": "scattercarpet"
           }
          ],
          "scattergeo": [
           {
            "marker": {
             "colorbar": {
              "outlinewidth": 0,
              "ticks": ""
             }
            },
            "type": "scattergeo"
           }
          ],
          "scattergl": [
           {
            "marker": {
             "colorbar": {
              "outlinewidth": 0,
              "ticks": ""
             }
            },
            "type": "scattergl"
           }
          ],
          "scattermap": [
           {
            "marker": {
             "colorbar": {
              "outlinewidth": 0,
              "ticks": ""
             }
            },
            "type": "scattermap"
           }
          ],
          "scattermapbox": [
           {
            "marker": {
             "colorbar": {
              "outlinewidth": 0,
              "ticks": ""
             }
            },
            "type": "scattermapbox"
           }
          ],
          "scatterpolar": [
           {
            "marker": {
             "colorbar": {
              "outlinewidth": 0,
              "ticks": ""
             }
            },
            "type": "scatterpolar"
           }
          ],
          "scatterpolargl": [
           {
            "marker": {
             "colorbar": {
              "outlinewidth": 0,
              "ticks": ""
             }
            },
            "type": "scatterpolargl"
           }
          ],
          "scatterternary": [
           {
            "marker": {
             "colorbar": {
              "outlinewidth": 0,
              "ticks": ""
             }
            },
            "type": "scatterternary"
           }
          ],
          "surface": [
           {
            "colorbar": {
             "outlinewidth": 0,
             "ticks": ""
            },
            "colorscale": [
             [
              0,
              "#0d0887"
             ],
             [
              0.1111111111111111,
              "#46039f"
             ],
             [
              0.2222222222222222,
              "#7201a8"
             ],
             [
              0.3333333333333333,
              "#9c179e"
             ],
             [
              0.4444444444444444,
              "#bd3786"
             ],
             [
              0.5555555555555556,
              "#d8576b"
             ],
             [
              0.6666666666666666,
              "#ed7953"
             ],
             [
              0.7777777777777778,
              "#fb9f3a"
             ],
             [
              0.8888888888888888,
              "#fdca26"
             ],
             [
              1,
              "#f0f921"
             ]
            ],
            "type": "surface"
           }
          ],
          "table": [
           {
            "cells": {
             "fill": {
              "color": "#EBF0F8"
             },
             "line": {
              "color": "white"
             }
            },
            "header": {
             "fill": {
              "color": "#C8D4E3"
             },
             "line": {
              "color": "white"
             }
            },
            "type": "table"
           }
          ]
         },
         "layout": {
          "annotationdefaults": {
           "arrowcolor": "#2a3f5f",
           "arrowhead": 0,
           "arrowwidth": 1
          },
          "autotypenumbers": "strict",
          "coloraxis": {
           "colorbar": {
            "outlinewidth": 0,
            "ticks": ""
           }
          },
          "colorscale": {
           "diverging": [
            [
             0,
             "#8e0152"
            ],
            [
             0.1,
             "#c51b7d"
            ],
            [
             0.2,
             "#de77ae"
            ],
            [
             0.3,
             "#f1b6da"
            ],
            [
             0.4,
             "#fde0ef"
            ],
            [
             0.5,
             "#f7f7f7"
            ],
            [
             0.6,
             "#e6f5d0"
            ],
            [
             0.7,
             "#b8e186"
            ],
            [
             0.8,
             "#7fbc41"
            ],
            [
             0.9,
             "#4d9221"
            ],
            [
             1,
             "#276419"
            ]
           ],
           "sequential": [
            [
             0,
             "#0d0887"
            ],
            [
             0.1111111111111111,
             "#46039f"
            ],
            [
             0.2222222222222222,
             "#7201a8"
            ],
            [
             0.3333333333333333,
             "#9c179e"
            ],
            [
             0.4444444444444444,
             "#bd3786"
            ],
            [
             0.5555555555555556,
             "#d8576b"
            ],
            [
             0.6666666666666666,
             "#ed7953"
            ],
            [
             0.7777777777777778,
             "#fb9f3a"
            ],
            [
             0.8888888888888888,
             "#fdca26"
            ],
            [
             1,
             "#f0f921"
            ]
           ],
           "sequentialminus": [
            [
             0,
             "#0d0887"
            ],
            [
             0.1111111111111111,
             "#46039f"
            ],
            [
             0.2222222222222222,
             "#7201a8"
            ],
            [
             0.3333333333333333,
             "#9c179e"
            ],
            [
             0.4444444444444444,
             "#bd3786"
            ],
            [
             0.5555555555555556,
             "#d8576b"
            ],
            [
             0.6666666666666666,
             "#ed7953"
            ],
            [
             0.7777777777777778,
             "#fb9f3a"
            ],
            [
             0.8888888888888888,
             "#fdca26"
            ],
            [
             1,
             "#f0f921"
            ]
           ]
          },
          "colorway": [
           "#636efa",
           "#EF553B",
           "#00cc96",
           "#ab63fa",
           "#FFA15A",
           "#19d3f3",
           "#FF6692",
           "#B6E880",
           "#FF97FF",
           "#FECB52"
          ],
          "font": {
           "color": "#2a3f5f"
          },
          "geo": {
           "bgcolor": "white",
           "lakecolor": "white",
           "landcolor": "#E5ECF6",
           "showlakes": true,
           "showland": true,
           "subunitcolor": "white"
          },
          "hoverlabel": {
           "align": "left"
          },
          "hovermode": "closest",
          "mapbox": {
           "style": "light"
          },
          "paper_bgcolor": "white",
          "plot_bgcolor": "#E5ECF6",
          "polar": {
           "angularaxis": {
            "gridcolor": "white",
            "linecolor": "white",
            "ticks": ""
           },
           "bgcolor": "#E5ECF6",
           "radialaxis": {
            "gridcolor": "white",
            "linecolor": "white",
            "ticks": ""
           }
          },
          "scene": {
           "xaxis": {
            "backgroundcolor": "#E5ECF6",
            "gridcolor": "white",
            "gridwidth": 2,
            "linecolor": "white",
            "showbackground": true,
            "ticks": "",
            "zerolinecolor": "white"
           },
           "yaxis": {
            "backgroundcolor": "#E5ECF6",
            "gridcolor": "white",
            "gridwidth": 2,
            "linecolor": "white",
            "showbackground": true,
            "ticks": "",
            "zerolinecolor": "white"
           },
           "zaxis": {
            "backgroundcolor": "#E5ECF6",
            "gridcolor": "white",
            "gridwidth": 2,
            "linecolor": "white",
            "showbackground": true,
            "ticks": "",
            "zerolinecolor": "white"
           }
          },
          "shapedefaults": {
           "line": {
            "color": "#2a3f5f"
           }
          },
          "ternary": {
           "aaxis": {
            "gridcolor": "white",
            "linecolor": "white",
            "ticks": ""
           },
           "baxis": {
            "gridcolor": "white",
            "linecolor": "white",
            "ticks": ""
           },
           "bgcolor": "#E5ECF6",
           "caxis": {
            "gridcolor": "white",
            "linecolor": "white",
            "ticks": ""
           }
          },
          "title": {
           "x": 0.05
          },
          "xaxis": {
           "automargin": true,
           "gridcolor": "white",
           "linecolor": "white",
           "ticks": "",
           "title": {
            "standoff": 15
           },
           "zerolinecolor": "white",
           "zerolinewidth": 2
          },
          "yaxis": {
           "automargin": true,
           "gridcolor": "white",
           "linecolor": "white",
           "ticks": "",
           "title": {
            "standoff": 15
           },
           "zerolinecolor": "white",
           "zerolinewidth": 2
          }
         }
        },
        "title": {
         "text": "Accuracy vs BERTScore"
        },
        "xaxis": {
         "anchor": "y",
         "domain": [
          0,
          1
         ],
         "gridcolor": "lightgrey",
         "showgrid": true,
         "title": {
          "text": "BERTScore"
         }
        },
        "yaxis": {
         "anchor": "x",
         "domain": [
          0,
          1
         ],
         "gridcolor": "lightgrey",
         "showgrid": true,
         "title": {
          "text": "Accuracy"
         }
        }
       }
      }
     },
     "metadata": {},
     "output_type": "display_data"
    }
   ],
   "source": [
    "import plotly.express as px\n",
    "import pandas as pd\n",
    "import numpy as np\n",
    "\n",
    "# Create an interactive scatter plot\n",
    "data = pd.read_json(\"../data/translations_annotated.json\")\n",
    "fig = px.scatter(\n",
    "    data,\n",
    "    x=\"bertscore\",\n",
    "    y=\"accuracy\",\n",
    "    hover_data=[\"english\"],\n",
    "    title=\"Accuracy vs BERTScore\",\n",
    ")\n",
    "fig.update_layout(xaxis_title=\"BERTScore\", yaxis_title=\"Accuracy\")\n",
    "# Define sigmoid functions\n",
    "x_values = np.linspace(data[\"bertscore\"].min(), data[\"bertscore\"].max(), 500)\n",
    "\n",
    "sigmoid1 = 100 / (1 + np.exp(-3.92 * (x_values - 0.47)))\n",
    "sigmoid2 = 100 / (1 + np.exp(-20 * (x_values - 0.53)))\n",
    "\n",
    "lam = 0.53\n",
    "sigmoid = lam * sigmoid1 + (1 - lam) * sigmoid2\n",
    "\n",
    "# Add sigmoid functions to the plot\n",
    "fig.add_scatter(x=x_values, y=sigmoid, mode=\"lines\", name=\"Best fit\")\n",
    "fig.update_layout(\n",
    "    plot_bgcolor=\"white\",\n",
    "    xaxis=dict(showgrid=True, gridcolor=\"lightgrey\"),\n",
    "    yaxis=dict(showgrid=True, gridcolor=\"lightgrey\"),\n",
    "    legend=dict(orientation=\"h\", yanchor=\"bottom\", y=1.02, xanchor=\"right\", x=1),\n",
    "    font=dict(color=\"black\"),\n",
    ")\n",
    "fig.show()"
   ]
  },
  {
   "cell_type": "code",
   "execution_count": null,
   "metadata": {},
   "outputs": [
    {
     "data": {
      "image/png": "[encoded data removed]",
      "text/plain": [
       "<Figure size 1000x800 with 3 Axes>"
      ]
     },
     "metadata": {},
     "output_type": "display_data"
    }
   ],
   "source": [
    "import matplotlib.pyplot as plt\n",
    "\n",
    "# Calculate z as a function of x and y\n",
    "x_values = np.linspace(data[\"fluency_score\"].min(), data[\"fluency_score\"].max(), 500)\n",
    "y_values = np.linspace(data[\"grammar_score\"].min(), data[\"grammar_score\"].max(), 500)\n",
    "\n",
    "fluency_scores = data[\"fluency_score\"]\n",
    "grammar_scores = data[\"grammar_score\"]\n",
    "fluency = data[\"fluency\"]\n",
    "\n",
    "X, Y = np.meshgrid(x_values, y_values)\n",
    "lam = 0.8\n",
    "Z = lam * (100 / (1 + np.exp(-0.03 * (X - 5.36)))) + (1 - lam) * (\n",
    "    100 / (1 + np.exp(-0.03 * (Y - 5.07)))\n",
    ")\n",
    "\n",
    "# Create the heatmap\n",
    "plt.figure(figsize=(10, 8))\n",
    "heatmap = plt.contourf(X, Y, Z, levels=50, cmap=\"Blues\")\n",
    "sc = plt.scatter(\n",
    "    fluency_scores, grammar_scores, c=fluency, cmap=\"Reds\", edgecolor=\"black\", alpha=0.8\n",
    ")\n",
    "cbar = plt.colorbar(sc)\n",
    "cbar.set_label(\"Human Fluency Score\")\n",
    "\n",
    "plt.colorbar(heatmap, label=\"Trained scoring function\")\n",
    "plt.xlabel(\"Fluency Score\")\n",
    "plt.ylabel(\"Grammar Score\")\n",
    "plt.title(\"2D Heatmap of learned fluency and grammar scoring\")\n",
    "plt.show()"
   ]
  }
 ],
 "metadata": {
  "kernelspec": {
   "display_name": "teach-bs",
   "language": "python",
   "name": "python3"
  },
  "language_info": {
   "codemirror_mode": {
    "name": "ipython",
    "version": 3
   },
   "file_extension": ".py",
   "mimetype": "text/x-python",
   "name": "python",
   "nbconvert_exporter": "python",
   "pygments_lexer": "ipython3",
   "version": "3.10.16"
  }
 },
 "nbformat": 4,
 "nbformat_minor": 2
}
